{
  "nbformat": 4,
  "nbformat_minor": 0,
  "metadata": {
    "colab": {
      "provenance": [],
      "authorship_tag": "ABX9TyM6x6q7T/duVfa9yJMdPKAi",
      "include_colab_link": true
    },
    "kernelspec": {
      "name": "python3",
      "display_name": "Python 3"
    },
    "language_info": {
      "name": "python"
    }
  },
  "cells": [
    {
      "cell_type": "markdown",
      "metadata": {
        "id": "view-in-github",
        "colab_type": "text"
      },
      "source": [
        "<a href=\"https://colab.research.google.com/github/valdineisaugo/colab_teste/blob/main/teste.ipynb\" target=\"_parent\"><img src=\"https://colab.research.google.com/assets/colab-badge.svg\" alt=\"Open In Colab\"/></a>"
      ]
    },
    {
      "cell_type": "code",
      "execution_count": 2,
      "metadata": {
        "colab": {
          "base_uri": "https://localhost:8080/"
        },
        "id": "nthwtDgciik1",
        "outputId": "82043b9b-188d-41b7-d8f5-d4e6d429648d"
      },
      "outputs": [
        {
          "output_type": "stream",
          "name": "stdout",
          "text": [
            "Hello, world!\n"
          ]
        }
      ],
      "source": [
        "# prompt:\n",
        "\n",
        "# This code snippet has no preceding code, so it can be any valid Python code.\n",
        "# For example, you could print a message:\n",
        "\n",
        "print(\"Hello, world!\")\n",
        "\n",
        "# Or you could define a function:\n",
        "\n",
        "def my_function():\n",
        "  return \"Hello, world!\"\n",
        "\n",
        "# Or you could import a library:\n",
        "\n",
        "import pandas as pd\n",
        "\n",
        "# The possibilities are endless!\n"
      ]
    }
  ]
}